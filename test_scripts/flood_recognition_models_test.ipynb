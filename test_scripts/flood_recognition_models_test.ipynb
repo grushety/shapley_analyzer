{
 "cells": [
  {
   "cell_type": "code",
   "execution_count": 1,
   "metadata": {
    "collapsed": true,
    "pycharm": {
     "name": "#%%\n"
    }
   },
   "outputs": [],
   "source": [
    "import inspect\n",
    "import os\n",
    "import numpy as np\n",
    "\n",
    "from tensorflow.keras.models import load_model\n",
    "import tensorflow as tf\n",
    "from segmentation_models.training.loss_functions import dice_coef_loss, tversky_loss\n",
    "from segmentation_models.dataset.load_dataset import load_10_validation_files, load_100_validation_files\n",
    "from segmentation_models.utils.utils_functions import show_images\n",
    "from shapley_analyzer.shapley import calculate_shapely_for_model\n",
    "from tensorflow.keras.optimizers import Adam\n",
    "PATH = os.path.dirname(os.path.dirname(os.path.abspath(inspect.stack()[0][1])))\n",
    "from shapley_analyzer.prepare_input_data import convert_map_to_arrays\n",
    "import matplotlib.pyplot as plt"
   ]
  },
  {
   "cell_type": "code",
   "execution_count": 3,
   "outputs": [
    {
     "ename": "OSError",
     "evalue": "SavedModel file does not exist at: C:\\Users\\haruki\\PycharmProjects\\shapley_analyzer\\segmentation_models\\trained_models\\fcn_dice.h5\\{saved_model.pbtxt|saved_model.pb}",
     "output_type": "error",
     "traceback": [
      "\u001B[1;31m---------------------------------------------------------------------------\u001B[0m",
      "\u001B[1;31mOSError\u001B[0m                                   Traceback (most recent call last)",
      "\u001B[1;32m<ipython-input-3-40a368d98d3b>\u001B[0m in \u001B[0;36m<module>\u001B[1;34m\u001B[0m\n\u001B[0;32m      1\u001B[0m \u001B[1;31m# Load all trained models\u001B[0m\u001B[1;33m\u001B[0m\u001B[1;33m\u001B[0m\u001B[1;33m\u001B[0m\u001B[0m\n\u001B[0;32m      2\u001B[0m \u001B[0mfilename\u001B[0m \u001B[1;33m=\u001B[0m \u001B[0mos\u001B[0m\u001B[1;33m.\u001B[0m\u001B[0mpath\u001B[0m\u001B[1;33m.\u001B[0m\u001B[0mjoin\u001B[0m\u001B[1;33m(\u001B[0m\u001B[0mPATH\u001B[0m\u001B[1;33m,\u001B[0m \u001B[1;34m'segmentation_models'\u001B[0m\u001B[1;33m,\u001B[0m \u001B[1;34m'trained_models'\u001B[0m\u001B[1;33m,\u001B[0m\u001B[1;34m'fcn_dice.h5'\u001B[0m \u001B[1;33m)\u001B[0m\u001B[1;33m\u001B[0m\u001B[1;33m\u001B[0m\u001B[0m\n\u001B[1;32m----> 3\u001B[1;33m \u001B[0mfcn_dice_model\u001B[0m \u001B[1;33m=\u001B[0m \u001B[0mload_model\u001B[0m\u001B[1;33m(\u001B[0m\u001B[0mfilename\u001B[0m\u001B[1;33m,\u001B[0m \u001B[0mcompile\u001B[0m\u001B[1;33m=\u001B[0m\u001B[1;32mFalse\u001B[0m\u001B[1;33m)\u001B[0m\u001B[1;33m\u001B[0m\u001B[1;33m\u001B[0m\u001B[0m\n\u001B[0m\u001B[0;32m      4\u001B[0m \u001B[0mfcn_dice_model\u001B[0m\u001B[1;33m.\u001B[0m\u001B[0mcompile\u001B[0m\u001B[1;33m(\u001B[0m\u001B[0moptimizer\u001B[0m\u001B[1;33m=\u001B[0m\u001B[0mAdam\u001B[0m\u001B[1;33m(\u001B[0m\u001B[0mlearning_rate\u001B[0m \u001B[1;33m=\u001B[0m \u001B[1;36m0.0001\u001B[0m\u001B[1;33m)\u001B[0m\u001B[1;33m,\u001B[0m \u001B[0mloss\u001B[0m\u001B[1;33m=\u001B[0m\u001B[1;33m[\u001B[0m\u001B[0mdice_coef_loss\u001B[0m\u001B[1;33m]\u001B[0m\u001B[1;33m,\u001B[0m \u001B[0mmetrics\u001B[0m\u001B[1;33m=\u001B[0m\u001B[1;33m[\u001B[0m\u001B[1;34m'accuracy'\u001B[0m\u001B[1;33m]\u001B[0m\u001B[1;33m)\u001B[0m\u001B[1;33m\u001B[0m\u001B[1;33m\u001B[0m\u001B[0m\n\u001B[0;32m      5\u001B[0m \u001B[1;33m\u001B[0m\u001B[0m\n",
      "\u001B[1;32m~\\Anaconda3\\envs\\shapley_analyzer\\lib\\site-packages\\keras\\saving\\save.py\u001B[0m in \u001B[0;36mload_model\u001B[1;34m(filepath, custom_objects, compile, options)\u001B[0m\n\u001B[0;32m    203\u001B[0m         \u001B[0mfilepath\u001B[0m \u001B[1;33m=\u001B[0m \u001B[0mpath_to_string\u001B[0m\u001B[1;33m(\u001B[0m\u001B[0mfilepath\u001B[0m\u001B[1;33m)\u001B[0m\u001B[1;33m\u001B[0m\u001B[1;33m\u001B[0m\u001B[0m\n\u001B[0;32m    204\u001B[0m         \u001B[1;32mif\u001B[0m \u001B[0misinstance\u001B[0m\u001B[1;33m(\u001B[0m\u001B[0mfilepath\u001B[0m\u001B[1;33m,\u001B[0m \u001B[0mstr\u001B[0m\u001B[1;33m)\u001B[0m\u001B[1;33m:\u001B[0m\u001B[1;33m\u001B[0m\u001B[1;33m\u001B[0m\u001B[0m\n\u001B[1;32m--> 205\u001B[1;33m           \u001B[1;32mreturn\u001B[0m \u001B[0msaved_model_load\u001B[0m\u001B[1;33m.\u001B[0m\u001B[0mload\u001B[0m\u001B[1;33m(\u001B[0m\u001B[0mfilepath\u001B[0m\u001B[1;33m,\u001B[0m \u001B[0mcompile\u001B[0m\u001B[1;33m,\u001B[0m \u001B[0moptions\u001B[0m\u001B[1;33m)\u001B[0m\u001B[1;33m\u001B[0m\u001B[1;33m\u001B[0m\u001B[0m\n\u001B[0m\u001B[0;32m    206\u001B[0m \u001B[1;33m\u001B[0m\u001B[0m\n\u001B[0;32m    207\u001B[0m   raise IOError(\n",
      "\u001B[1;32m~\\Anaconda3\\envs\\shapley_analyzer\\lib\\site-packages\\keras\\saving\\saved_model\\load.py\u001B[0m in \u001B[0;36mload\u001B[1;34m(path, compile, options)\u001B[0m\n\u001B[0;32m    106\u001B[0m   \u001B[1;31m# Look for metadata file or parse the SavedModel\u001B[0m\u001B[1;33m\u001B[0m\u001B[1;33m\u001B[0m\u001B[1;33m\u001B[0m\u001B[0m\n\u001B[0;32m    107\u001B[0m   \u001B[0mmetadata\u001B[0m \u001B[1;33m=\u001B[0m \u001B[0msaved_metadata_pb2\u001B[0m\u001B[1;33m.\u001B[0m\u001B[0mSavedMetadata\u001B[0m\u001B[1;33m(\u001B[0m\u001B[1;33m)\u001B[0m\u001B[1;33m\u001B[0m\u001B[1;33m\u001B[0m\u001B[0m\n\u001B[1;32m--> 108\u001B[1;33m   \u001B[0mmeta_graph_def\u001B[0m \u001B[1;33m=\u001B[0m \u001B[0mtf\u001B[0m\u001B[1;33m.\u001B[0m\u001B[0m__internal__\u001B[0m\u001B[1;33m.\u001B[0m\u001B[0msaved_model\u001B[0m\u001B[1;33m.\u001B[0m\u001B[0mparse_saved_model\u001B[0m\u001B[1;33m(\u001B[0m\u001B[0mpath\u001B[0m\u001B[1;33m)\u001B[0m\u001B[1;33m.\u001B[0m\u001B[0mmeta_graphs\u001B[0m\u001B[1;33m[\u001B[0m\u001B[1;36m0\u001B[0m\u001B[1;33m]\u001B[0m\u001B[1;33m\u001B[0m\u001B[1;33m\u001B[0m\u001B[0m\n\u001B[0m\u001B[0;32m    109\u001B[0m   \u001B[0mobject_graph_def\u001B[0m \u001B[1;33m=\u001B[0m \u001B[0mmeta_graph_def\u001B[0m\u001B[1;33m.\u001B[0m\u001B[0mobject_graph_def\u001B[0m\u001B[1;33m\u001B[0m\u001B[1;33m\u001B[0m\u001B[0m\n\u001B[0;32m    110\u001B[0m   \u001B[0mpath_to_metadata_pb\u001B[0m \u001B[1;33m=\u001B[0m \u001B[0mos\u001B[0m\u001B[1;33m.\u001B[0m\u001B[0mpath\u001B[0m\u001B[1;33m.\u001B[0m\u001B[0mjoin\u001B[0m\u001B[1;33m(\u001B[0m\u001B[0mpath\u001B[0m\u001B[1;33m,\u001B[0m \u001B[0mconstants\u001B[0m\u001B[1;33m.\u001B[0m\u001B[0mSAVED_METADATA_PATH\u001B[0m\u001B[1;33m)\u001B[0m\u001B[1;33m\u001B[0m\u001B[1;33m\u001B[0m\u001B[0m\n",
      "\u001B[1;32m~\\Anaconda3\\envs\\shapley_analyzer\\lib\\site-packages\\tensorflow\\python\\saved_model\\loader_impl.py\u001B[0m in \u001B[0;36mparse_saved_model\u001B[1;34m(export_dir)\u001B[0m\n\u001B[0;32m    119\u001B[0m         \u001B[1;34m\"SavedModel file does not exist at: %s%s{%s|%s}\"\u001B[0m \u001B[1;33m%\u001B[0m\u001B[1;33m\u001B[0m\u001B[1;33m\u001B[0m\u001B[0m\n\u001B[0;32m    120\u001B[0m         (export_dir, os.path.sep, constants.SAVED_MODEL_FILENAME_PBTXT,\n\u001B[1;32m--> 121\u001B[1;33m          constants.SAVED_MODEL_FILENAME_PB))\n\u001B[0m\u001B[0;32m    122\u001B[0m \u001B[1;33m\u001B[0m\u001B[0m\n\u001B[0;32m    123\u001B[0m \u001B[1;33m\u001B[0m\u001B[0m\n",
      "\u001B[1;31mOSError\u001B[0m: SavedModel file does not exist at: C:\\Users\\haruki\\PycharmProjects\\shapley_analyzer\\segmentation_models\\trained_models\\fcn_dice.h5\\{saved_model.pbtxt|saved_model.pb}"
     ]
    }
   ],
   "source": [
    "# Load all trained models\n",
    "filename = os.path.join(PATH, 'segmentation_models', 'trained_models','fcn_dice.h5' )\n",
    "fcn_dice_model = load_model(filename, compile=False)\n",
    "fcn_dice_model.compile(optimizer=Adam(learning_rate = 0.0001), loss=[dice_coef_loss], metrics=['accuracy'])\n",
    "\n",
    "filename = os.path.join(PATH, 'segmentation_models', 'trained_models','fcn_tversky.h5' )\n",
    "fcn_tversky_model = load_model(filename, compile=False)\n",
    "fcn_tversky_model.compile(optimizer=Adam(learning_rate = 0.0001), loss=[tversky_loss], metrics=['accuracy'])\n",
    "\n",
    "filename = os.path.join(PATH, 'segmentation_models', 'trained_models','unet_dice.h5' )\n",
    "unet_dice_model = load_model(filename, compile=False)\n",
    "unet_dice_model.compile(optimizer=Adam(learning_rate = 0.0001), loss=[dice_coef_loss],\n",
    "                    metrics=['accuracy'])\n",
    "\n",
    "filename = os.path.join(PATH, 'segmentation_models', 'trained_models','unet_tversky.h5' )\n",
    "unet_tversky_model = load_model(filename, compile=False)\n",
    "unet_tversky_model.compile(optimizer=Adam(learning_rate = 0.0001), loss=[tversky_loss], metrics=['accuracy'])\n",
    "\n",
    "models = [ fcn_dice_model, fcn_tversky_model, unet_dice_model, unet_tversky_model]\n",
    "model_names = ['FCN(dice loss)', 'FCN(tversky loss)', 'UNET(dice loss)', 'UNET(tversky loss)']"
   ],
   "metadata": {
    "collapsed": false,
    "pycharm": {
     "name": "#%%\n"
    }
   }
  },
  {
   "cell_type": "markdown",
   "source": [],
   "metadata": {
    "collapsed": false,
    "pycharm": {
     "name": "#%% md\n"
    }
   }
  },
  {
   "cell_type": "code",
   "execution_count": null,
   "outputs": [],
   "source": [
    "x_validate, y_validate = load_10_validation_files()"
   ],
   "metadata": {
    "collapsed": false,
    "pycharm": {
     "name": "#%%\n"
    }
   }
  },
  {
   "cell_type": "markdown",
   "source": [],
   "metadata": {
    "collapsed": false,
    "pycharm": {
     "name": "#%% md\n"
    }
   }
  },
  {
   "cell_type": "code",
   "execution_count": null,
   "outputs": [],
   "source": [
    "shapely, accuracy = {}, {}\n",
    "feature_names = ['red', 'green', 'blue']\n",
    "for model in enumerate(models):\n",
    "    shapely[model_names[model[0]]], accuracy[model_names[model[0]]]= calculate_shapely_for_model(feature_names, x_validate, y_validate, model[1], feature_type='image')"
   ],
   "metadata": {
    "collapsed": false,
    "pycharm": {
     "name": "#%%\n"
    }
   }
  },
  {
   "cell_type": "code",
   "execution_count": null,
   "outputs": [],
   "source": [
    "model_names = ['FCN(dice loss)', 'FCN(tversky loss)', 'UNET(dice loss)', 'UNET(tversky loss)']\n",
    "shapely_arr = convert_map_to_arrays(shapely, feature_names, model_names)\n",
    "all_features = accuracy['FCN(dice loss)'].keys()\n",
    "accuracy_arr = convert_map_to_arrays(accuracy, all_features, model_names)\n",
    "\n",
    "fig, (ax, bx) = plt.subplots(2, figsize=(25, 15))\n",
    "x = np.arange(len(feature_names))\n",
    "\n",
    "rects1 = ax.bar(x - 0.2, shapely_arr[0], width=0.1, label='FCN(dice loss)')\n",
    "rects2 = ax.bar(x - 0.1, shapely_arr[1], width=0.1, label='FCN(tversky loss)')\n",
    "rects3 = ax.bar(x + 0.05, shapely_arr[2], width=0.1, label='UNET(dice loss)')\n",
    "rects4 = ax.bar(x + 0.15, shapely_arr[2], width=0.1, label='UNET(tversky loss)')\n",
    "\n",
    "ax.set_ylabel('shapely')\n",
    "ax.set_title('Shapely Value for different features')\n",
    "ax.set_xticks(x)\n",
    "ax.set_xticklabels(feature_names)\n",
    "ax.legend()\n",
    "\n",
    "y = np.arange(len(all_features))\n",
    "\n",
    "rects5 = bx.bar(y - 0.15, accuracy_arr[0], width=0.1, label='FCN(dice loss)')\n",
    "rects6 = bx.bar(y - 0.05, accuracy_arr[1], width=0.1, label='FCN(tversky loss)')\n",
    "rects7 = bx.bar(y + 0.05, accuracy_arr[2], width=0.1, label='UNET(dice loss)')\n",
    "rects8 = bx.bar(y + 0.15, accuracy_arr[3], width=0.1, label='UNET(tversky loss)')\n",
    "\n",
    "bx.set_ylabel('accuracy')\n",
    "bx.set_title('Accuracy for different feature')\n",
    "bx.set_xticks(y)\n",
    "bx.set_ylim(0.95, 1.0)\n",
    "bx.set_xticklabels(all_features)\n",
    "bx.legend()"
   ],
   "metadata": {
    "collapsed": false,
    "pycharm": {
     "name": "#%%\n"
    }
   }
  }
 ],
 "metadata": {
  "kernelspec": {
   "display_name": "Python 3",
   "language": "python",
   "name": "python3"
  },
  "language_info": {
   "codemirror_mode": {
    "name": "ipython",
    "version": 2
   },
   "file_extension": ".py",
   "mimetype": "text/x-python",
   "name": "python",
   "nbconvert_exporter": "python",
   "pygments_lexer": "ipython2",
   "version": "2.7.6"
  }
 },
 "nbformat": 4,
 "nbformat_minor": 0
}